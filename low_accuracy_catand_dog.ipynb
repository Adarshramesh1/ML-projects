{
  "nbformat": 4,
  "nbformat_minor": 0,
  "metadata": {
    "colab": {
      "name": "low accuracy catand dog.ipynb",
      "version": "0.3.2",
      "provenance": [],
      "collapsed_sections": []
    },
    "kernelspec": {
      "name": "python3",
      "display_name": "Python 3"
    },
    "accelerator": "GPU"
  },
  "cells": [
    {
      "cell_type": "code",
      "metadata": {
        "id": "s_Q0QjKpimE3",
        "colab_type": "code",
        "outputId": "1783573b-da48-4fed-a750-aeef06368d2e",
        "colab": {
          "base_uri": "https://localhost:8080/",
          "height": 223
        }
      },
      "source": [
        "!wget https://sds-platform-private.s3-us-east-2.amazonaws.com/uploads/P16-Convolutional-Neural-Networks.zip"
      ],
      "execution_count": 0,
      "outputs": [
        {
          "output_type": "stream",
          "text": [
            "--2019-07-19 04:50:07--  https://sds-platform-private.s3-us-east-2.amazonaws.com/uploads/P16-Convolutional-Neural-Networks.zip\n",
            "Resolving sds-platform-private.s3-us-east-2.amazonaws.com (sds-platform-private.s3-us-east-2.amazonaws.com)... 52.219.100.232\n",
            "Connecting to sds-platform-private.s3-us-east-2.amazonaws.com (sds-platform-private.s3-us-east-2.amazonaws.com)|52.219.100.232|:443... connected.\n",
            "HTTP request sent, awaiting response... 200 OK\n",
            "Length: 233354462 (223M) [application/zip]\n",
            "Saving to: ‘P16-Convolutional-Neural-Networks.zip’\n",
            "\n",
            "P16-Convolutional-N 100%[===================>] 222.54M  32.0MB/s    in 7.6s    \n",
            "\n",
            "2019-07-19 04:50:15 (29.4 MB/s) - ‘P16-Convolutional-Neural-Networks.zip’ saved [233354462/233354462]\n",
            "\n"
          ],
          "name": "stdout"
        }
      ]
    },
    {
      "cell_type": "code",
      "metadata": {
        "id": "Ti6H8e1wkRko",
        "colab_type": "code",
        "colab": {}
      },
      "source": [
        "!unzip /content/P16-Convolutional-Neural-Networks.zip"
      ],
      "execution_count": 0,
      "outputs": []
    },
    {
      "cell_type": "code",
      "metadata": {
        "id": "oUi8YUADmrwA",
        "colab_type": "code",
        "colab": {}
      },
      "source": [
        "import keras\n",
        "from keras.models import Sequential\n",
        "from keras.layers import Conv2D\n",
        "from keras.layers import MaxPooling2D\n",
        "from keras.layers import Flatten\n",
        "from keras.layers import Dense"
      ],
      "execution_count": 0,
      "outputs": []
    },
    {
      "cell_type": "code",
      "metadata": {
        "id": "OQLTML7-wlTe",
        "colab_type": "code",
        "colab": {}
      },
      "source": [
        "#initialize cnn\n",
        "classifier=Sequential()\n"
      ],
      "execution_count": 0,
      "outputs": []
    },
    {
      "cell_type": "code",
      "metadata": {
        "id": "cijzPXzLxXR3",
        "colab_type": "code",
        "colab": {}
      },
      "source": [
        "#step 1:convolution layer in input shhape 3 is number of chnannels in colour change\n",
        "classifier.add(Conv2D(32,(3,3),input_shape=(128,128,3),activation='relu'))"
      ],
      "execution_count": 0,
      "outputs": []
    },
    {
      "cell_type": "code",
      "metadata": {
        "id": "oDFX8s-Z0wGd",
        "colab_type": "code",
        "colab": {}
      },
      "source": [
        "\n",
        "classifier.add(MaxPooling2D(pool_size=(2,2)))"
      ],
      "execution_count": 0,
      "outputs": []
    },
    {
      "cell_type": "code",
      "metadata": {
        "id": "6iqxGiCogWB7",
        "colab_type": "code",
        "colab": {}
      },
      "source": [
        "classifier.add(Conv2D(64,(3,3),activation='relu'))\n",
        "classifier.add(MaxPooling2D(pool_size=(2,2)))"
      ],
      "execution_count": 0,
      "outputs": []
    },
    {
      "cell_type": "code",
      "metadata": {
        "id": "LLApwoT-gkLI",
        "colab_type": "code",
        "colab": {}
      },
      "source": [
        ""
      ],
      "execution_count": 0,
      "outputs": []
    },
    {
      "cell_type": "code",
      "metadata": {
        "id": "UkaQe4Wz1X_-",
        "colab_type": "code",
        "colab": {}
      },
      "source": [
        "#flatten layer\n",
        "classifier.add(Flatten())"
      ],
      "execution_count": 0,
      "outputs": []
    },
    {
      "cell_type": "code",
      "metadata": {
        "id": "geqG0oqW1hU1",
        "colab_type": "code",
        "colab": {}
      },
      "source": [
        "#step 4 ann gonna use dense layers to implenent actual nueral layers\n",
        "classifier.add(Dense(activation='relu',units=128))\n",
        "classifier.add(Dense(activation='sigmoid',units=1))\n"
      ],
      "execution_count": 0,
      "outputs": []
    },
    {
      "cell_type": "code",
      "metadata": {
        "id": "fRxC2_dD21j_",
        "colab_type": "code",
        "colab": {}
      },
      "source": [
        "classifier.compile(optimizer='adam',loss='binary_crossentropy',metrics=['accuracy'])#warning cuz old tf is used cuz keras wont work in lates\n"
      ],
      "execution_count": 0,
      "outputs": []
    },
    {
      "cell_type": "code",
      "metadata": {
        "id": "7T2yFz-24R6l",
        "colab_type": "code",
        "outputId": "4361684b-6dfe-4591-c3a3-15939087568d",
        "colab": {
          "base_uri": "https://localhost:8080/",
          "height": 399
        }
      },
      "source": [
        "classifier.summary()"
      ],
      "execution_count": 0,
      "outputs": [
        {
          "output_type": "stream",
          "text": [
            "_________________________________________________________________\n",
            "Layer (type)                 Output Shape              Param #   \n",
            "=================================================================\n",
            "conv2d_4 (Conv2D)            (None, 126, 126, 32)      896       \n",
            "_________________________________________________________________\n",
            "max_pooling2d_4 (MaxPooling2 (None, 63, 63, 32)        0         \n",
            "_________________________________________________________________\n",
            "conv2d_5 (Conv2D)            (None, 61, 61, 64)        18496     \n",
            "_________________________________________________________________\n",
            "max_pooling2d_5 (MaxPooling2 (None, 30, 30, 64)        0         \n",
            "_________________________________________________________________\n",
            "flatten_3 (Flatten)          (None, 57600)             0         \n",
            "_________________________________________________________________\n",
            "dense_5 (Dense)              (None, 128)               7372928   \n",
            "_________________________________________________________________\n",
            "dense_6 (Dense)              (None, 1)                 129       \n",
            "=================================================================\n",
            "Total params: 7,392,449\n",
            "Trainable params: 7,392,449\n",
            "Non-trainable params: 0\n",
            "_________________________________________________________________\n"
          ],
          "name": "stdout"
        }
      ]
    },
    {
      "cell_type": "markdown",
      "metadata": {
        "id": "zokAM7Pn5JXD",
        "colab_type": "text"
      },
      "source": [
        "part 2 fitting the training data to the **model**\n",
        "\n",
        "\n",
        "\n",
        "\n"
      ]
    },
    {
      "cell_type": "code",
      "metadata": {
        "id": "Fj6GPv7f5PSg",
        "colab_type": "code",
        "colab": {}
      },
      "source": [
        "from keras.preprocessing.image import ImageDataGenerator"
      ],
      "execution_count": 0,
      "outputs": []
    },
    {
      "cell_type": "code",
      "metadata": {
        "id": "zCb1zdut5wSj",
        "colab_type": "code",
        "colab": {}
      },
      "source": [
        "#applying folllowing code to generate more images if dataset is small if lakh and all no need fooling it has more than 4k images each for both the classess(cat,dog)\n",
        "train_datagen=ImageDataGenerator(\n",
        "        rescale=1/255,\n",
        "        shear_range=0.2,\n",
        "        zoom_range=0.2,\n",
        "        horizontal_flip=True)"
      ],
      "execution_count": 0,
      "outputs": []
    },
    {
      "cell_type": "code",
      "metadata": {
        "id": "DCnNwPKk6hmr",
        "colab_type": "code",
        "colab": {}
      },
      "source": [
        "test_datagen=ImageDataGenerator(rescale=1/255)\n"
      ],
      "execution_count": 0,
      "outputs": []
    },
    {
      "cell_type": "code",
      "metadata": {
        "id": "hxVVFvgB63F0",
        "colab_type": "code",
        "colab": {}
      },
      "source": [
        "batchSize=128"
      ],
      "execution_count": 0,
      "outputs": []
    },
    {
      "cell_type": "code",
      "metadata": {
        "id": "br-ZKqSJ9eT1",
        "colab_type": "code",
        "outputId": "4deefd76-8e8e-4801-a366-c0b45ffeacb8",
        "colab": {
          "base_uri": "https://localhost:8080/",
          "height": 35
        }
      },
      "source": [
        "training_set=train_datagen.flow_from_directory('/content/Convolutional_Neural_Networks/dataset/training_set',target_size=(128,128),batch_size=batchSize,class_mode='binary')\n"
      ],
      "execution_count": 0,
      "outputs": [
        {
          "output_type": "stream",
          "text": [
            "Found 8000 images belonging to 2 classes.\n"
          ],
          "name": "stdout"
        }
      ]
    },
    {
      "cell_type": "code",
      "metadata": {
        "id": "tgsZwMrJ-gRU",
        "colab_type": "code",
        "outputId": "31f0447c-5a03-4ba9-d592-b166eaa0b900",
        "colab": {
          "base_uri": "https://localhost:8080/",
          "height": 35
        }
      },
      "source": [
        "test_set=train_datagen.flow_from_directory('/content/Convolutional_Neural_Networks/dataset/test_set',target_size=(128,128),batch_size=batchSize,class_mode='binary')\n"
      ],
      "execution_count": 0,
      "outputs": [
        {
          "output_type": "stream",
          "text": [
            "Found 2000 images belonging to 2 classes.\n"
          ],
          "name": "stdout"
        }
      ]
    },
    {
      "cell_type": "code",
      "metadata": {
        "id": "n_o_fv8n-pTo",
        "colab_type": "code",
        "colab": {}
      },
      "source": [
        ""
      ],
      "execution_count": 0,
      "outputs": []
    },
    {
      "cell_type": "code",
      "metadata": {
        "id": "IuiGC21a_lZ7",
        "colab_type": "code",
        "colab": {}
      },
      "source": [
        "no_of_steps_trainingepoch=int(8000/batchSize)\n",
        "no_of_steps_testingepoch=int(8000/batchSize)"
      ],
      "execution_count": 0,
      "outputs": []
    },
    {
      "cell_type": "code",
      "metadata": {
        "id": "1Ky_jqKrANXp",
        "colab_type": "code",
        "outputId": "f1d8e88a-74fd-4209-882c-350c30c562b3",
        "colab": {
          "base_uri": "https://localhost:8080/",
          "height": 35
        }
      },
      "source": [
        "no_of_steps_trainingepoch"
      ],
      "execution_count": 0,
      "outputs": [
        {
          "output_type": "execute_result",
          "data": {
            "text/plain": [
              "62"
            ]
          },
          "metadata": {
            "tags": []
          },
          "execution_count": 28
        }
      ]
    },
    {
      "cell_type": "code",
      "metadata": {
        "id": "v23HuvqwAj7Z",
        "colab_type": "code",
        "outputId": "050b313e-1dd0-4b87-8bff-7523d1c13070",
        "colab": {
          "base_uri": "https://localhost:8080/",
          "height": 217
        }
      },
      "source": [
        "classifier.fit_generator(training_set,steps_per_epoch=no_of_steps_trainingepoch,epochs=5,validation_data=test_set,validation_steps=no_of_steps_testingepoch)"
      ],
      "execution_count": 0,
      "outputs": [
        {
          "output_type": "stream",
          "text": [
            "Epoch 1/5\n",
            "62/62 [==============================] - 103s 2s/step - loss: 0.5818 - acc: 0.6964 - val_loss: 0.5526 - val_acc: 0.7069\n",
            "Epoch 2/5\n",
            "62/62 [==============================] - 94s 2s/step - loss: 0.5164 - acc: 0.7444 - val_loss: 0.4818 - val_acc: 0.7685\n",
            "Epoch 3/5\n",
            "62/62 [==============================] - 94s 2s/step - loss: 0.4653 - acc: 0.7809 - val_loss: 0.4220 - val_acc: 0.8019\n",
            "Epoch 4/5\n",
            "62/62 [==============================] - 94s 2s/step - loss: 0.4260 - acc: 0.8058 - val_loss: 0.3928 - val_acc: 0.8221\n",
            "Epoch 5/5\n",
            "62/62 [==============================] - 94s 2s/step - loss: 0.3727 - acc: 0.8305 - val_loss: 0.3533 - val_acc: 0.8484\n"
          ],
          "name": "stdout"
        },
        {
          "output_type": "execute_result",
          "data": {
            "text/plain": [
              "<keras.callbacks.History at 0x7f825f9e3748>"
            ]
          },
          "metadata": {
            "tags": []
          },
          "execution_count": 61
        }
      ]
    },
    {
      "cell_type": "code",
      "metadata": {
        "id": "LjXhKaZdR8vy",
        "colab_type": "code",
        "outputId": "6694a1d5-6901-445d-f3d6-6e5ffad57806",
        "colab": {
          "base_uri": "https://localhost:8080/",
          "height": 362
        }
      },
      "source": [
        "!unzip '/content/catANDdog.zip'"
      ],
      "execution_count": 0,
      "outputs": [
        {
          "output_type": "stream",
          "text": [
            "Archive:  /content/catANDdog.zip\n",
            "   creating: catANDdog/\n",
            "  inflating: catANDdog/0.jpg         \n",
            "  inflating: catANDdog/1.jpg         \n",
            "  inflating: catANDdog/10.jpg        \n",
            "  inflating: catANDdog/11.jpg        \n",
            "  inflating: catANDdog/12.jpg        \n",
            "  inflating: catANDdog/13.jpg        \n",
            "  inflating: catANDdog/14.jpg        \n",
            "  inflating: catANDdog/15.jpg        \n",
            "  inflating: catANDdog/2.jpg         \n",
            "  inflating: catANDdog/3.jpg         \n",
            "  inflating: catANDdog/4.jpg         \n",
            "  inflating: catANDdog/5.jpg         \n",
            "  inflating: catANDdog/6.jpg         \n",
            "  inflating: catANDdog/7.jpg         \n",
            "  inflating: catANDdog/8.jpg         \n",
            "  inflating: catANDdog/9.jpg         \n",
            "  inflating: catANDdog/a.txt         \n"
          ],
          "name": "stdout"
        }
      ]
    },
    {
      "cell_type": "code",
      "metadata": {
        "id": "ymw1Hok_WQP3",
        "colab_type": "code",
        "colab": {}
      },
      "source": [
        "import numpy as np\n",
        "from keras.preprocessing import image"
      ],
      "execution_count": 0,
      "outputs": []
    },
    {
      "cell_type": "code",
      "metadata": {
        "id": "fYFwZ5sZWagX",
        "colab_type": "code",
        "colab": {}
      },
      "source": [
        "img=0"
      ],
      "execution_count": 0,
      "outputs": []
    },
    {
      "cell_type": "code",
      "metadata": {
        "id": "I1z3-KbDWdzC",
        "colab_type": "code",
        "outputId": "243335b2-8758-4c38-b437-cfb7a6d06b9c",
        "colab": {
          "base_uri": "https://localhost:8080/",
          "height": 1000
        }
      },
      "source": [
        "f=open('/content/catANDdog/a.txt','r')\n",
        "while True:\n",
        "    line=f.readline()\n",
        "    if not line:\n",
        "       break\n",
        "        \n",
        "    test_image=image.load_img('/content/catANDdog/'+str(img)+'.jpg',target_size=(128,128))\n",
        "    test_image=image.img_to_array(test_image)\n",
        "    test_image=np.expand_dims(test_image,axis=0)\n",
        "    result=classifier.predict(test_image)\n",
        "    result=classifier.predict(test_image)\n",
        "    print(result)\n",
        "    if result ==[[1.]]:\n",
        "        print(\"dog\")\n",
        "    elif result ==[[0.]]:\n",
        "        print(\"cat\")\n",
        "    print(\"Actual : \" ,line)\n",
        "    img=img+1\n",
        "img=0\n",
        "    \n",
        "   "
      ],
      "execution_count": 0,
      "outputs": [
        {
          "output_type": "stream",
          "text": [
            "[[1.]]\n",
            "dog\n",
            "Actual :  dog\n",
            "\n",
            "[[1.]]\n",
            "dog\n",
            "Actual :  cat\n",
            "\n",
            "[[1.]]\n",
            "dog\n",
            "Actual :  dog\n",
            "\n",
            "[[0.]]\n",
            "cat\n",
            "Actual :  cat\n",
            "\n",
            "[[1.]]\n",
            "dog\n",
            "Actual :  dog\n",
            "\n",
            "[[1.]]\n",
            "dog\n",
            "Actual :  cat\n",
            "\n",
            "[[1.]]\n",
            "dog\n",
            "Actual :  dog\n",
            "\n",
            "[[0.]]\n",
            "cat\n",
            "Actual :  cat\n",
            "\n",
            "[[0.]]\n",
            "cat\n",
            "Actual :  dog\n",
            "\n",
            "[[0.]]\n",
            "cat\n",
            "Actual :  cat\n",
            "\n",
            "[[1.]]\n",
            "dog\n",
            "Actual :  dog\n",
            "\n",
            "[[0.]]\n",
            "cat\n",
            "Actual :  cat\n",
            "\n",
            "[[1.]]\n",
            "dog\n",
            "Actual :  dog\n",
            "\n",
            "[[1.]]\n",
            "dog\n",
            "Actual :  cat\n",
            "\n",
            "[[1.]]\n",
            "dog\n",
            "Actual :  dog\n",
            "\n",
            "[[0.]]\n",
            "cat\n",
            "Actual :  cat\n"
          ],
          "name": "stdout"
        }
      ]
    },
    {
      "cell_type": "code",
      "metadata": {
        "id": "UN18nAa8lxj0",
        "colab_type": "code",
        "outputId": "65b909d6-441b-42b2-9618-64061125f041",
        "colab": {
          "base_uri": "https://localhost:8080/",
          "height": 171
        }
      },
      "source": [
        "print(test_datagen.class_indices)"
      ],
      "execution_count": 0,
      "outputs": [
        {
          "output_type": "error",
          "ename": "AttributeError",
          "evalue": "ignored",
          "traceback": [
            "\u001b[0;31m---------------------------------------------------------------------------\u001b[0m",
            "\u001b[0;31mAttributeError\u001b[0m                            Traceback (most recent call last)",
            "\u001b[0;32m<ipython-input-66-d338942562f2>\u001b[0m in \u001b[0;36m<module>\u001b[0;34m()\u001b[0m\n\u001b[0;32m----> 1\u001b[0;31m \u001b[0mprint\u001b[0m\u001b[0;34m(\u001b[0m\u001b[0mtest_datagen\u001b[0m\u001b[0;34m.\u001b[0m\u001b[0mclass_indices\u001b[0m\u001b[0;34m)\u001b[0m\u001b[0;34m\u001b[0m\u001b[0;34m\u001b[0m\u001b[0m\n\u001b[0m",
            "\u001b[0;31mAttributeError\u001b[0m: 'ImageDataGenerator' object has no attribute 'class_indices'"
          ]
        }
      ]
    },
    {
      "cell_type": "code",
      "metadata": {
        "id": "6RjrK0NXov9b",
        "colab_type": "code",
        "colab": {}
      },
      "source": [
        "classifier.save('model.h5')"
      ],
      "execution_count": 0,
      "outputs": []
    },
    {
      "cell_type": "code",
      "metadata": {
        "id": "lBkhpnBbpcH-",
        "colab_type": "code",
        "outputId": "e98bdf35-273b-487d-9234-7061170c45c3",
        "colab": {
          "base_uri": "https://localhost:8080/",
          "height": 35
        }
      },
      "source": [
        "+from google.colab import drive\n",
        "drive.mount('/content/drive', force_remount=True)"
      ],
      "execution_count": 0,
      "outputs": [
        {
          "output_type": "stream",
          "text": [
            "Mounted at /content/drive\n"
          ],
          "name": "stdout"
        }
      ]
    },
    {
      "cell_type": "code",
      "metadata": {
        "id": "LBaTqfQmsJ-j",
        "colab_type": "code",
        "outputId": "c253c4fe-ec40-454c-ce9f-191b573ad576",
        "colab": {
          "base_uri": "https://localhost:8080/",
          "height": 35
        }
      },
      "source": [
        "from shutil import copyfile\n",
        "copyfile('/content/model.h5','/content/drive/My Drive/model.h5mm')"
      ],
      "execution_count": 0,
      "outputs": [
        {
          "output_type": "execute_result",
          "data": {
            "text/plain": [
              "'/content/drive/My Drive/model.h5'"
            ]
          },
          "metadata": {
            "tags": []
          },
          "execution_count": 78
        }
      ]
    },
    {
      "cell_type": "code",
      "metadata": {
        "id": "JDG732QUsxlC",
        "colab_type": "code",
        "outputId": "b3bb4707-93c3-40c1-8a69-17e9ec00c5db",
        "colab": {
          "base_uri": "https://localhost:8080/",
          "height": 35
        }
      },
      "source": [
        "cd '/content'"
      ],
      "execution_count": 0,
      "outputs": [
        {
          "output_type": "stream",
          "text": [
            "/content\n"
          ],
          "name": "stdout"
        }
      ]
    },
    {
      "cell_type": "code",
      "metadata": {
        "id": "xq9nuHQas8Fy",
        "colab_type": "code",
        "outputId": "c39803fe-da91-47f6-e264-be27b3e552c1",
        "colab": {
          "base_uri": "https://localhost:8080/",
          "height": 72
        }
      },
      "source": [
        "!ls"
      ],
      "execution_count": 0,
      "outputs": [
        {
          "output_type": "stream",
          "text": [
            "catANDdog\t\t       drive\t P16-Convolutional-Neural-Networks.zip\n",
            "catANDdog.zip\t\t       __MACOSX  sample_data\n",
            "Convolutional_Neural_Networks  model.h5\n"
          ],
          "name": "stdout"
        }
      ]
    }
  ]
}