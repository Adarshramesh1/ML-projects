{
  "nbformat": 4,
  "nbformat_minor": 0,
  "metadata": {
    "colab": {
      "name": "deep learning intro.ipynb",
      "version": "0.3.2",
      "provenance": []
    },
    "kernelspec": {
      "name": "python3",
      "display_name": "Python 3"
    },
    "accelerator": "GPU"
  },
  "cells": [
    {
      "cell_type": "code",
      "metadata": {
        "id": "XGiYhr4kWJFz",
        "colab_type": "code",
        "colab": {}
      },
      "source": [
        ""
      ],
      "execution_count": 0,
      "outputs": []
    },
    {
      "cell_type": "code",
      "metadata": {
        "id": "lE-g_V25wcCF",
        "colab_type": "code",
        "colab": {}
      },
      "source": [
        "import tensorflow as tf\n",
        "from tensorflow import keras\n",
        "import numpy as np"
      ],
      "execution_count": 0,
      "outputs": []
    },
    {
      "cell_type": "code",
      "metadata": {
        "id": "l-lWOWgAwi_T",
        "colab_type": "code",
        "colab": {}
      },
      "source": [
        "#black and white(mnist-dataset is 28/28)\n",
        "in convolution there will be a activation funct to remove -ve value cuz of feature detector(relu is used?)\n",
        "mnist=keras.datasets.mnist\n",
        "train_data,test_data=mnist.load_data()\n",
        "train_images,train_labels=train_data\n",
        "test_images,test_labels=test_data"
      ],
      "execution_count": 0,
      "outputs": []
    },
    {
      "cell_type": "code",
      "metadata": {
        "id": "8Gi20dBDzppd",
        "colab_type": "code",
        "outputId": "7ed1023f-e5af-4161-b9b1-6c82837c8fc9",
        "colab": {
          "base_uri": "https://localhost:8080/",
          "height": 932
        }
      },
      "source": [
        "test_images"
      ],
      "execution_count": 0,
      "outputs": [
        {
          "output_type": "execute_result",
          "data": {
            "text/plain": [
              "array([[[0, 0, 0, ..., 0, 0, 0],\n",
              "        [0, 0, 0, ..., 0, 0, 0],\n",
              "        [0, 0, 0, ..., 0, 0, 0],\n",
              "        ...,\n",
              "        [0, 0, 0, ..., 0, 0, 0],\n",
              "        [0, 0, 0, ..., 0, 0, 0],\n",
              "        [0, 0, 0, ..., 0, 0, 0]],\n",
              "\n",
              "       [[0, 0, 0, ..., 0, 0, 0],\n",
              "        [0, 0, 0, ..., 0, 0, 0],\n",
              "        [0, 0, 0, ..., 0, 0, 0],\n",
              "        ...,\n",
              "        [0, 0, 0, ..., 0, 0, 0],\n",
              "        [0, 0, 0, ..., 0, 0, 0],\n",
              "        [0, 0, 0, ..., 0, 0, 0]],\n",
              "\n",
              "       [[0, 0, 0, ..., 0, 0, 0],\n",
              "        [0, 0, 0, ..., 0, 0, 0],\n",
              "        [0, 0, 0, ..., 0, 0, 0],\n",
              "        ...,\n",
              "        [0, 0, 0, ..., 0, 0, 0],\n",
              "        [0, 0, 0, ..., 0, 0, 0],\n",
              "        [0, 0, 0, ..., 0, 0, 0]],\n",
              "\n",
              "       ...,\n",
              "\n",
              "       [[0, 0, 0, ..., 0, 0, 0],\n",
              "        [0, 0, 0, ..., 0, 0, 0],\n",
              "        [0, 0, 0, ..., 0, 0, 0],\n",
              "        ...,\n",
              "        [0, 0, 0, ..., 0, 0, 0],\n",
              "        [0, 0, 0, ..., 0, 0, 0],\n",
              "        [0, 0, 0, ..., 0, 0, 0]],\n",
              "\n",
              "       [[0, 0, 0, ..., 0, 0, 0],\n",
              "        [0, 0, 0, ..., 0, 0, 0],\n",
              "        [0, 0, 0, ..., 0, 0, 0],\n",
              "        ...,\n",
              "        [0, 0, 0, ..., 0, 0, 0],\n",
              "        [0, 0, 0, ..., 0, 0, 0],\n",
              "        [0, 0, 0, ..., 0, 0, 0]],\n",
              "\n",
              "       [[0, 0, 0, ..., 0, 0, 0],\n",
              "        [0, 0, 0, ..., 0, 0, 0],\n",
              "        [0, 0, 0, ..., 0, 0, 0],\n",
              "        ...,\n",
              "        [0, 0, 0, ..., 0, 0, 0],\n",
              "        [0, 0, 0, ..., 0, 0, 0],\n",
              "        [0, 0, 0, ..., 0, 0, 0]]], dtype=uint8)"
            ]
          },
          "metadata": {
            "tags": []
          },
          "execution_count": 3
        }
      ]
    },
    {
      "cell_type": "code",
      "metadata": {
        "id": "NZWvRhxk1oA0",
        "colab_type": "code",
        "colab": {}
      },
      "source": [
        "train_images=train_images.astype('float32')/255\n",
        "test_images=test_images.astype('float32')/255"
      ],
      "execution_count": 0,
      "outputs": []
    },
    {
      "cell_type": "code",
      "metadata": {
        "id": "w7Ml7sPu2Bz4",
        "colab_type": "code",
        "outputId": "fd980544-fca5-4c0e-e20e-f88c338c6a4a",
        "colab": {
          "base_uri": "https://localhost:8080/",
          "height": 36
        }
      },
      "source": [
        "train_images.shape"
      ],
      "execution_count": 0,
      "outputs": [
        {
          "output_type": "execute_result",
          "data": {
            "text/plain": [
              "(60000, 28, 28)"
            ]
          },
          "metadata": {
            "tags": []
          },
          "execution_count": 5
        }
      ]
    },
    {
      "cell_type": "code",
      "metadata": {
        "id": "IHXCffaj3GMI",
        "colab_type": "code",
        "outputId": "b20ae347-9b04-4942-c18f-712c5b912f4f",
        "colab": {
          "base_uri": "https://localhost:8080/",
          "height": 112
        }
      },
      "source": [
        "#nueral netwrok\n",
        "\n",
        "model=keras.Sequential()\n",
        "model.add(keras.layers.Flatten(input_shape=(28,28)))\n",
        "model.add(keras.layers.Dense(128))\n",
        "model.add(keras.layers.Dense(64))#adding one more hidden layer\n",
        "model.add(keras.layers.Dense(10 ,activation='softmax'))#10 based on number of classes 0-9 in predicyion only 1 is needed softmax is used cuz there re more than 2 classes in sigmoid only 2\n",
        "model.compile(optimizer='adam',loss='sparse_categorical_crossentropy',metrics=['accuracy'])#adam=adaptive momentum optimizer,sparse is used cuz more than 2 classes if 2 then binary entroppy used to update weights\n",
        "#cros entropy is a base function\n",
        "#sparse then no need to do one hot encoder directly\n"
      ],
      "execution_count": 0,
      "outputs": [
        {
          "output_type": "stream",
          "text": [
            "WARNING: Logging before flag parsing goes to stderr.\n",
            "W0718 08:59:06.143290 140332455925632 deprecation.py:506] From /usr/local/lib/python3.6/dist-packages/tensorflow/python/ops/init_ops.py:1251: calling VarianceScaling.__init__ (from tensorflow.python.ops.init_ops) with dtype is deprecated and will be removed in a future version.\n",
            "Instructions for updating:\n",
            "Call initializer instance with the dtype argument instead of passing it to the constructor\n"
          ],
          "name": "stderr"
        }
      ]
    },
    {
      "cell_type": "code",
      "metadata": {
        "id": "Pg7VUjfiOIvx",
        "colab_type": "code",
        "outputId": "82a2b29b-61c1-4b3b-8f13-521e09e27fd4",
        "colab": {
          "base_uri": "https://localhost:8080/",
          "height": 316
        }
      },
      "source": [
        "model.summary()"
      ],
      "execution_count": 0,
      "outputs": [
        {
          "output_type": "stream",
          "text": [
            "Model: \"sequential\"\n",
            "_________________________________________________________________\n",
            "Layer (type)                 Output Shape              Param #   \n",
            "=================================================================\n",
            "flatten (Flatten)            (None, 784)               0         \n",
            "_________________________________________________________________\n",
            "dense (Dense)                (None, 128)               100480    \n",
            "_________________________________________________________________\n",
            "dense_1 (Dense)              (None, 64)                8256      \n",
            "_________________________________________________________________\n",
            "dense_2 (Dense)              (None, 10)                650       \n",
            "=================================================================\n",
            "Total params: 109,386\n",
            "Trainable params: 109,386\n",
            "Non-trainable params: 0\n",
            "_________________________________________________________________\n"
          ],
          "name": "stdout"
        }
      ]
    },
    {
      "cell_type": "code",
      "metadata": {
        "id": "dhEDaPFOQ9_y",
        "colab_type": "code",
        "outputId": "842ad56b-19d8-4502-f1fe-7a476b0e34e7",
        "colab": {
          "base_uri": "https://localhost:8080/",
          "height": 409
        }
      },
      "source": [
        "model.fit(train_images,train_labels,epochs=10)"
      ],
      "execution_count": 0,
      "outputs": [
        {
          "output_type": "stream",
          "text": [
            "Epoch 1/10\n",
            "60000/60000 [==============================] - 6s 102us/sample - loss: 0.3688 - acc: 0.8939\n",
            "Epoch 2/10\n",
            "60000/60000 [==============================] - 6s 97us/sample - loss: 0.3133 - acc: 0.9118\n",
            "Epoch 3/10\n",
            "60000/60000 [==============================] - 6s 97us/sample - loss: 0.3004 - acc: 0.9158\n",
            "Epoch 4/10\n",
            "60000/60000 [==============================] - 6s 97us/sample - loss: 0.2946 - acc: 0.9165\n",
            "Epoch 5/10\n",
            "60000/60000 [==============================] - 6s 96us/sample - loss: 0.2889 - acc: 0.9197\n",
            "Epoch 6/10\n",
            "60000/60000 [==============================] - 6s 97us/sample - loss: 0.2832 - acc: 0.9210\n",
            "Epoch 7/10\n",
            "60000/60000 [==============================] - 6s 97us/sample - loss: 0.2799 - acc: 0.9212\n",
            "Epoch 8/10\n",
            "60000/60000 [==============================] - 6s 97us/sample - loss: 0.2759 - acc: 0.9221\n",
            "Epoch 9/10\n",
            "60000/60000 [==============================] - 6s 98us/sample - loss: 0.2736 - acc: 0.9238\n",
            "Epoch 10/10\n",
            "60000/60000 [==============================] - 6s 97us/sample - loss: 0.2724 - acc: 0.9238\n"
          ],
          "name": "stdout"
        },
        {
          "output_type": "execute_result",
          "data": {
            "text/plain": [
              "<tensorflow.python.keras.callbacks.History at 0x7fa18e82de80>"
            ]
          },
          "metadata": {
            "tags": []
          },
          "execution_count": 8
        }
      ]
    },
    {
      "cell_type": "code",
      "metadata": {
        "id": "2MitZA1nU4zk",
        "colab_type": "code",
        "outputId": "ff8e97bb-2bc1-437e-c1f4-04bb1656e0a5",
        "colab": {
          "base_uri": "https://localhost:8080/",
          "height": 36
        }
      },
      "source": [
        "eval_loss,eval_acc=model.evaluate(test_images,test_labels)\n"
      ],
      "execution_count": 0,
      "outputs": [
        {
          "output_type": "stream",
          "text": [
            "10000/10000 [==============================] - 1s 60us/sample - loss: 0.2776 - acc: 0.9236\n"
          ],
          "name": "stdout"
        }
      ]
    },
    {
      "cell_type": "code",
      "metadata": {
        "id": "-6qvsydIV_Mx",
        "colab_type": "code",
        "outputId": "f334c587-7422-427d-fb5d-1c889d829701",
        "colab": {
          "base_uri": "https://localhost:8080/",
          "height": 54
        }
      },
      "source": [
        "sample_index=1000\n",
        "sample_img=test_images[sample_index]\n",
        "sample_label=test_labels[sample_index]\n",
        "prediction=model.predict(sample_img.reshape((1,28,28)))\n",
        "print(\"prediction\",np.argmax(prediction))\n",
        "print(sample_label)"
      ],
      "execution_count": 0,
      "outputs": [
        {
          "output_type": "stream",
          "text": [
            "prediction 9\n",
            "9\n"
          ],
          "name": "stdout"
        }
      ]
    }
  ]
}