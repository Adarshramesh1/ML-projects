{
  "nbformat": 4,
  "nbformat_minor": 0,
  "metadata": {
    "colab": {
      "name": "example of preprocessing.ipynb",
      "version": "0.3.2",
      "provenance": []
    },
    "kernelspec": {
      "name": "python3",
      "display_name": "Python 3"
    }
  },
  "cells": [
    {
      "cell_type": "code",
      "metadata": {
        "id": "3wxG4LQxA7q6",
        "colab_type": "code",
        "colab": {}
      },
      "source": [
        " #import libraries\n",
        "import numpy as np\n",
        "import matplotlib.pyplot as plt #used for plotting and visualization\n",
        "import pandas as pd"
      ],
      "execution_count": 0,
      "outputs": []
    },
    {
      "cell_type": "code",
      "metadata": {
        "id": "SIr7Ab6yZYD9",
        "colab_type": "code",
        "colab": {}
      },
      "source": [
        "#now import dataset\n",
        "dataset = pd.read_csv('/content/preprocessing.csv')\n",
        "#now we r going to store values of dependent and independent variables in x and y\n",
        "#iloc is used to extract a subset of dataset\n",
        "X = dataset.iloc[:,0:5].values#: indicates all rows\n",
        "Y = dataset.iloc[:,5:6].values\n"
      ],
      "execution_count": 0,
      "outputs": []
    },
    {
      "cell_type": "code",
      "metadata": {
        "id": "z5PCWM4kcq7O",
        "colab_type": "code",
        "outputId": "80751641-bca0-4338-f61b-d8e21814fed9",
        "colab": {
          "base_uri": "https://localhost:8080/",
          "height": 204
        }
      },
      "source": [
        "X"
      ],
      "execution_count": 0,
      "outputs": [
        {
          "output_type": "execute_result",
          "data": {
            "text/plain": [
              "array([[1, 'M', 19.0, 22000.0, 'JAPAN'],\n",
              "       [2, 'M', 32.0, 15000.0, 'USA'],\n",
              "       [3, 'F', 16.0, 130000.0, 'INDIA'],\n",
              "       [4, 'M', 39.0, 54000.0, 'INDIA'],\n",
              "       [5, 'M', nan, nan, 'USA'],\n",
              "       [6, 'F', nan, 90000.0, 'JAPAN'],\n",
              "       [7, 'F', 41.0, 67000.0, 'JAPAN'],\n",
              "       [8, 'F', 22.0, nan, 'JAPAN'],\n",
              "       [9, 'M', 31.0, nan, 'INDIA'],\n",
              "       [10, 'M', 29.0, 13000.0, 'USA']], dtype=object)"
            ]
          },
          "metadata": {
            "tags": []
          },
          "execution_count": 54
        }
      ]
    },
    {
      "cell_type": "code",
      "metadata": {
        "id": "K0qc05Iwdokt",
        "colab_type": "code",
        "outputId": "1e54eafd-59ba-4150-bfc6-0fd84dadb110",
        "colab": {
          "base_uri": "https://localhost:8080/",
          "height": 204
        }
      },
      "source": [
        "Y"
      ],
      "execution_count": 0,
      "outputs": [
        {
          "output_type": "execute_result",
          "data": {
            "text/plain": [
              "array([[1],\n",
              "       [1],\n",
              "       [0],\n",
              "       [1],\n",
              "       [1],\n",
              "       [0],\n",
              "       [0],\n",
              "       [1],\n",
              "       [0],\n",
              "       [1]])"
            ]
          },
          "metadata": {
            "tags": []
          },
          "execution_count": 55
        }
      ]
    },
    {
      "cell_type": "code",
      "metadata": {
        "id": "TQwjh4rbbYuk",
        "colab_type": "code",
        "outputId": "e9e97204-2831-436d-8274-28f2f8d82287",
        "colab": {
          "base_uri": "https://localhost:8080/",
          "height": 74
        }
      },
      "source": [
        "from sklearn.preprocessing import Imputer\n",
        "imputer=Imputer(missing_values='NaN' ,strategy='mean',axis=0)\n",
        "imputer.fit(X[:,2:4])\n",
        "X[:,2:4]=imputer.transform(X[:,2:4])"
      ],
      "execution_count": 0,
      "outputs": [
        {
          "output_type": "stream",
          "text": [
            "/usr/local/lib/python3.6/dist-packages/sklearn/utils/deprecation.py:66: DeprecationWarning: Class Imputer is deprecated; Imputer was deprecated in version 0.20 and will be removed in 0.22. Import impute.SimpleImputer from sklearn instead.\n",
            "  warnings.warn(msg, category=DeprecationWarning)\n"
          ],
          "name": "stderr"
        }
      ]
    },
    {
      "cell_type": "code",
      "metadata": {
        "id": "M73aTYuoeOcs",
        "colab_type": "code",
        "outputId": "60e53b90-b36e-4779-bd7d-3b7f630a9345",
        "colab": {
          "base_uri": "https://localhost:8080/",
          "height": 204
        }
      },
      "source": [
        "X"
      ],
      "execution_count": 0,
      "outputs": [
        {
          "output_type": "execute_result",
          "data": {
            "text/plain": [
              "array([[1, 'M', 19.0, 22000.0, 'JAPAN'],\n",
              "       [2, 'M', 32.0, 15000.0, 'USA'],\n",
              "       [3, 'F', 16.0, 130000.0, 'INDIA'],\n",
              "       [4, 'M', 39.0, 54000.0, 'INDIA'],\n",
              "       [5, 'M', 28.625, 55857.142857142855, 'USA'],\n",
              "       [6, 'F', 28.625, 90000.0, 'JAPAN'],\n",
              "       [7, 'F', 41.0, 67000.0, 'JAPAN'],\n",
              "       [8, 'F', 22.0, 55857.142857142855, 'JAPAN'],\n",
              "       [9, 'M', 31.0, 55857.142857142855, 'INDIA'],\n",
              "       [10, 'M', 29.0, 13000.0, 'USA']], dtype=object)"
            ]
          },
          "metadata": {
            "tags": []
          },
          "execution_count": 59
        }
      ]
    },
    {
      "cell_type": "code",
      "metadata": {
        "id": "Hy1VIF8Cd6Yb",
        "colab_type": "code",
        "outputId": "b3c6122d-80b6-48c2-9ac8-9151e3e77035",
        "colab": {
          "base_uri": "https://localhost:8080/",
          "height": 204
        }
      },
      "source": [
        "Y"
      ],
      "execution_count": 0,
      "outputs": [
        {
          "output_type": "execute_result",
          "data": {
            "text/plain": [
              "array([[1],\n",
              "       [1],\n",
              "       [0],\n",
              "       [1],\n",
              "       [1],\n",
              "       [0],\n",
              "       [0],\n",
              "       [1],\n",
              "       [0],\n",
              "       [1]])"
            ]
          },
          "metadata": {
            "tags": []
          },
          "execution_count": 58
        }
      ]
    },
    {
      "cell_type": "code",
      "metadata": {
        "id": "PNeZB3BYblFN",
        "colab_type": "code",
        "colab": {}
      },
      "source": [
        "#label encoding=alphabetical order assignment (0,1,...)\n",
        "#encoding the categorical data(with names as classes)\n",
        "from sklearn.preprocessing import LabelEncoder\n",
        "encoder_x=LabelEncoder()\n",
        "X[:,1]=encoder_x.fit_transform(X[:,1])"
      ],
      "execution_count": 0,
      "outputs": []
    },
    {
      "cell_type": "code",
      "metadata": {
        "id": "9D21NzFBeTOW",
        "colab_type": "code",
        "outputId": "2f91cd39-7a8f-4326-cae7-3d1c2dd7d4b9",
        "colab": {
          "base_uri": "https://localhost:8080/",
          "height": 204
        }
      },
      "source": [
        "X"
      ],
      "execution_count": 0,
      "outputs": [
        {
          "output_type": "execute_result",
          "data": {
            "text/plain": [
              "array([[1, 1, 19.0, 22000.0, 'JAPAN'],\n",
              "       [2, 1, 32.0, 15000.0, 'USA'],\n",
              "       [3, 0, 16.0, 130000.0, 'INDIA'],\n",
              "       [4, 1, 39.0, 54000.0, 'INDIA'],\n",
              "       [5, 1, 28.625, 55857.142857142855, 'USA'],\n",
              "       [6, 0, 28.625, 90000.0, 'JAPAN'],\n",
              "       [7, 0, 41.0, 67000.0, 'JAPAN'],\n",
              "       [8, 0, 22.0, 55857.142857142855, 'JAPAN'],\n",
              "       [9, 1, 31.0, 55857.142857142855, 'INDIA'],\n",
              "       [10, 1, 29.0, 13000.0, 'USA']], dtype=object)"
            ]
          },
          "metadata": {
            "tags": []
          },
          "execution_count": 61
        }
      ]
    },
    {
      "cell_type": "code",
      "metadata": {
        "id": "Xwt2mSwTCVSz",
        "colab_type": "code",
        "colab": {}
      },
      "source": [
        "#label encoding=alphabetical order assignment (0,1,...)\n",
        "#encoding the categorical data(with names as classes)\n",
        "from sklearn.preprocessing import LabelEncoder\n",
        "encoder_x=LabelEncoder()\n",
        "X[:,4]=encoder_x.fit_transform(X[:,4])"
      ],
      "execution_count": 0,
      "outputs": []
    },
    {
      "cell_type": "code",
      "metadata": {
        "id": "lpyIu7pgCfWJ",
        "colab_type": "code",
        "outputId": "7f789518-46a4-4364-cd0c-57eaf3bd7585",
        "colab": {
          "base_uri": "https://localhost:8080/",
          "height": 204
        }
      },
      "source": [
        "X"
      ],
      "execution_count": 0,
      "outputs": [
        {
          "output_type": "execute_result",
          "data": {
            "text/plain": [
              "array([[1, 1, 19.0, 22000.0, 1],\n",
              "       [2, 1, 32.0, 15000.0, 2],\n",
              "       [3, 0, 16.0, 130000.0, 0],\n",
              "       [4, 1, 39.0, 54000.0, 0],\n",
              "       [5, 1, 28.625, 55857.142857142855, 2],\n",
              "       [6, 0, 28.625, 90000.0, 1],\n",
              "       [7, 0, 41.0, 67000.0, 1],\n",
              "       [8, 0, 22.0, 55857.142857142855, 1],\n",
              "       [9, 1, 31.0, 55857.142857142855, 0],\n",
              "       [10, 1, 29.0, 13000.0, 2]], dtype=object)"
            ]
          },
          "metadata": {
            "tags": []
          },
          "execution_count": 63
        }
      ]
    },
    {
      "cell_type": "code",
      "metadata": {
        "id": "7Pv5jYb-e4Q2",
        "colab_type": "code",
        "outputId": "a68d52e9-1fe1-4b71-a6e4-71af759a5afa",
        "colab": {
          "base_uri": "https://localhost:8080/",
          "height": 149
        }
      },
      "source": [
        "#onehot encoding to removie weight ambiguity(spain has more weightage than others...)\n",
        "from sklearn.preprocessing import OneHotEncoder\n",
        "onehotencoder=OneHotEncoder(categorical_features = [1])\n",
        "X = onehotencoder.fit_transform(X).toarray()\n"
      ],
      "execution_count": 0,
      "outputs": [
        {
          "output_type": "stream",
          "text": [
            "/usr/local/lib/python3.6/dist-packages/sklearn/preprocessing/_encoders.py:415: FutureWarning: The handling of integer data will change in version 0.22. Currently, the categories are determined based on the range [0, max(values)], while in the future they will be determined based on the unique values.\n",
            "If you want the future behaviour and silence this warning, you can specify \"categories='auto'\".\n",
            "In case you used a LabelEncoder before this OneHotEncoder to convert the categories to integers, then you can now use the OneHotEncoder directly.\n",
            "  warnings.warn(msg, FutureWarning)\n",
            "/usr/local/lib/python3.6/dist-packages/sklearn/preprocessing/_encoders.py:451: DeprecationWarning: The 'categorical_features' keyword is deprecated in version 0.20 and will be removed in 0.22. You can use the ColumnTransformer instead.\n",
            "  \"use the ColumnTransformer instead.\", DeprecationWarning)\n"
          ],
          "name": "stderr"
        }
      ]
    },
    {
      "cell_type": "code",
      "metadata": {
        "id": "hgLAZf_OfXOY",
        "colab_type": "code",
        "outputId": "32450715-934c-4e05-f244-e93a6c0b7ec1",
        "colab": {
          "base_uri": "https://localhost:8080/",
          "height": 392
        }
      },
      "source": [
        "X"
      ],
      "execution_count": 0,
      "outputs": [
        {
          "output_type": "execute_result",
          "data": {
            "text/plain": [
              "array([[0.00000000e+00, 1.00000000e+00, 0.00000000e+00, 0.00000000e+00,\n",
              "        1.00000000e+00, 1.00000000e+00, 2.20000000e+04, 1.00000000e+00],\n",
              "       [0.00000000e+00, 1.00000000e+00, 0.00000000e+00, 0.00000000e+00,\n",
              "        2.00000000e+00, 6.00000000e+00, 1.50000000e+04, 2.00000000e+00],\n",
              "       [1.00000000e+00, 0.00000000e+00, 1.00000000e+00, 1.00000000e+00,\n",
              "        3.00000000e+00, 0.00000000e+00, 1.30000000e+05, 0.00000000e+00],\n",
              "       [0.00000000e+00, 1.00000000e+00, 0.00000000e+00, 0.00000000e+00,\n",
              "        4.00000000e+00, 7.00000000e+00, 5.40000000e+04, 0.00000000e+00],\n",
              "       [0.00000000e+00, 1.00000000e+00, 0.00000000e+00, 0.00000000e+00,\n",
              "        5.00000000e+00, 3.00000000e+00, 5.58571429e+04, 2.00000000e+00],\n",
              "       [1.00000000e+00, 0.00000000e+00, 1.00000000e+00, 1.00000000e+00,\n",
              "        6.00000000e+00, 3.00000000e+00, 9.00000000e+04, 1.00000000e+00],\n",
              "       [1.00000000e+00, 0.00000000e+00, 1.00000000e+00, 1.00000000e+00,\n",
              "        7.00000000e+00, 8.00000000e+00, 6.70000000e+04, 1.00000000e+00],\n",
              "       [1.00000000e+00, 0.00000000e+00, 1.00000000e+00, 1.00000000e+00,\n",
              "        8.00000000e+00, 2.00000000e+00, 5.58571429e+04, 1.00000000e+00],\n",
              "       [0.00000000e+00, 1.00000000e+00, 0.00000000e+00, 0.00000000e+00,\n",
              "        9.00000000e+00, 5.00000000e+00, 5.58571429e+04, 0.00000000e+00],\n",
              "       [0.00000000e+00, 1.00000000e+00, 0.00000000e+00, 0.00000000e+00,\n",
              "        1.00000000e+01, 4.00000000e+00, 1.30000000e+04, 2.00000000e+00]])"
            ]
          },
          "metadata": {
            "tags": []
          },
          "execution_count": 42
        }
      ]
    },
    {
      "cell_type": "code",
      "metadata": {
        "id": "Fr4ITRJEfjW0",
        "colab_type": "code",
        "outputId": "9f2441c3-9533-409a-e3ce-f0d4e4053e21",
        "colab": {
          "base_uri": "https://localhost:8080/",
          "height": 204
        }
      },
      "source": [
        "Y"
      ],
      "execution_count": 0,
      "outputs": [
        {
          "output_type": "execute_result",
          "data": {
            "text/plain": [
              "array([[0., 1.],\n",
              "       [0., 1.],\n",
              "       [1., 0.],\n",
              "       [0., 1.],\n",
              "       [0., 1.],\n",
              "       [1., 0.],\n",
              "       [1., 0.],\n",
              "       [0., 1.],\n",
              "       [1., 0.],\n",
              "       [0., 1.]])"
            ]
          },
          "metadata": {
            "tags": []
          },
          "execution_count": 43
        }
      ]
    },
    {
      "cell_type": "code",
      "metadata": {
        "id": "V-wcLQK9gfwy",
        "colab_type": "code",
        "outputId": "cc4b6843-89f9-4957-fb59-c3003be0c74b",
        "colab": {
          "base_uri": "https://localhost:8080/",
          "height": 36
        }
      },
      "source": [
        "X.shape"
      ],
      "execution_count": 0,
      "outputs": [
        {
          "output_type": "execute_result",
          "data": {
            "text/plain": [
              "(10, 8)"
            ]
          },
          "metadata": {
            "tags": []
          },
          "execution_count": 45
        }
      ]
    },
    {
      "cell_type": "code",
      "metadata": {
        "id": "hM_glYmUhnxX",
        "colab_type": "code",
        "colab": {}
      },
      "source": [
        "from sklearn.model_selection import train_test_split\n",
        "x_train,x_test,y_train,y_test=train_test_split(X,Y,test_size=1/3,random_state=0)"
      ],
      "execution_count": 0,
      "outputs": []
    },
    {
      "cell_type": "code",
      "metadata": {
        "id": "qTuL6_KXhp6c",
        "colab_type": "code",
        "outputId": "b48d0780-d636-4a10-b1e0-e3ab91aed537",
        "colab": {
          "base_uri": "https://localhost:8080/",
          "height": 242
        }
      },
      "source": [
        "x_train"
      ],
      "execution_count": 0,
      "outputs": [
        {
          "output_type": "execute_result",
          "data": {
            "text/plain": [
              "array([[0.00000000e+00, 1.00000000e+00, 0.00000000e+00, 0.00000000e+00,\n",
              "        2.00000000e+00, 6.00000000e+00, 1.50000000e+04, 2.00000000e+00],\n",
              "       [1.00000000e+00, 0.00000000e+00, 1.00000000e+00, 1.00000000e+00,\n",
              "        7.00000000e+00, 8.00000000e+00, 6.70000000e+04, 1.00000000e+00],\n",
              "       [1.00000000e+00, 0.00000000e+00, 1.00000000e+00, 1.00000000e+00,\n",
              "        8.00000000e+00, 2.00000000e+00, 5.58571429e+04, 1.00000000e+00],\n",
              "       [0.00000000e+00, 1.00000000e+00, 0.00000000e+00, 0.00000000e+00,\n",
              "        4.00000000e+00, 7.00000000e+00, 5.40000000e+04, 0.00000000e+00],\n",
              "       [0.00000000e+00, 1.00000000e+00, 0.00000000e+00, 0.00000000e+00,\n",
              "        1.00000000e+00, 1.00000000e+00, 2.20000000e+04, 1.00000000e+00],\n",
              "       [1.00000000e+00, 0.00000000e+00, 1.00000000e+00, 1.00000000e+00,\n",
              "        6.00000000e+00, 3.00000000e+00, 9.00000000e+04, 1.00000000e+00]])"
            ]
          },
          "metadata": {
            "tags": []
          },
          "execution_count": 46
        }
      ]
    },
    {
      "cell_type": "code",
      "metadata": {
        "id": "KkZv-OXshzNP",
        "colab_type": "code",
        "colab": {}
      },
      "source": [
        "from sklearn.preprocessing import StandardScaler\n",
        "sc_x=StandardScaler()\n",
        "x_train=sc_x.fit_transform(x_train)\n",
        "x_test=sc_x.transform(x_test)"
      ],
      "execution_count": 0,
      "outputs": []
    },
    {
      "cell_type": "code",
      "metadata": {
        "id": "ByXEOgMmSO9Y",
        "colab_type": "code",
        "outputId": "878b3966-903b-471a-8abb-35c5005dcbf7",
        "colab": {
          "base_uri": "https://localhost:8080/",
          "height": 167
        }
      },
      "source": [
        "x_test"
      ],
      "execution_count": 0,
      "outputs": [
        {
          "output_type": "execute_result",
          "data": {
            "text/plain": [
              "array([[ 1.        , -1.        ,  1.        ,  1.        , -0.65094455,\n",
              "        -1.71105548,  3.09451544, -1.73205081],\n",
              "       [-1.        ,  1.        , -1.        , -1.        ,  1.69245584,\n",
              "         0.19011728,  0.20333   , -1.73205081],\n",
              "       [-1.        ,  1.        , -1.        , -1.        ,  0.13018891,\n",
              "        -0.57035183,  0.20333   ,  1.73205081],\n",
              "       [-1.        ,  1.        , -1.        , -1.        ,  2.08302258,\n",
              "        -0.19011728, -1.46787546,  1.73205081]])"
            ]
          },
          "metadata": {
            "tags": []
          },
          "execution_count": 67
        }
      ]
    }
  ]
}